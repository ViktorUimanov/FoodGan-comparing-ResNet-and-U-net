{
  "cells": [
    {
      "cell_type": "code",
      "execution_count": null,
      "metadata": {
        "id": "qnYoBWMQrvZm"
      },
      "outputs": [],
      "source": [
        "pip install git+https://www.github.com/keras-team/keras-contrib.git"
      ]
    },
    {
      "cell_type": "code",
      "source": [
        "from models_and_utils.cycleGAN import CycleGAN\n",
        "from models_and_utils.loaders import DataLoader"
      ],
      "metadata": {
        "id": "YIUPtH4N-E__"
      },
      "execution_count": null,
      "outputs": []
    },
    {
      "cell_type": "code",
      "execution_count": null,
      "metadata": {
        "id": "4trqn1MRoSEM"
      },
      "outputs": [],
      "source": [
        "SECTION = 'Name of section'\n",
        "RUN_ID = '0001'\n",
        "DATA_NAME = 'noodles and arch'\n",
        "RUN_FOLDER = 'run/{}/'.format(SECTION)\n",
        "RUN_FOLDER += '_'.join([RUN_ID, DATA_NAME])"
      ]
    },
    {
      "cell_type": "code",
      "source": [
        "data_loader = DataLoader(dataset_name=DATA_NAME, img_res=(256, 256))"
      ],
      "metadata": {
        "id": "OboqV4Mi-K4V"
      },
      "execution_count": null,
      "outputs": []
    },
    {
      "cell_type": "code",
      "execution_count": null,
      "metadata": {
        "id": "aQbfViD9m4my"
      },
      "outputs": [],
      "source": [
        "if not os.path.exists(RUN_FOLDER):\n",
        "    os.mkdir(RUN_FOLDER)\n",
        "    os.mkdir(os.path.join(RUN_FOLDER, 'viz'))\n",
        "    os.mkdir(os.path.join(RUN_FOLDER, 'images'))\n",
        "    os.mkdir(os.path.join(RUN_FOLDER, 'weights'))\n",
        "\n",
        "mode =  'build'"
      ]
    },
    {
      "cell_type": "code",
      "execution_count": null,
      "metadata": {
        "id": "zsxG_SkVmzLT"
      },
      "outputs": [],
      "source": [
        "gan = CycleGAN(\n",
        "    input_dim = (256,256,3)\n",
        "    ,learning_rate = 0.0001\n",
        "    , buffer_max_length = 50\n",
        "    , lambda_validation = 1\n",
        "    , lambda_reconstr = 10\n",
        "    , lambda_id = 2\n",
        "    , generator_type = 'unet'\n",
        "    , gen_n_filters = 64\n",
        "    , disc_n_filters = 64\n",
        "    )"
      ]
    },
    {
      "cell_type": "code",
      "execution_count": null,
      "metadata": {
        "id": "a-CQDXbatz-4"
      },
      "outputs": [],
      "source": [
        "if mode == 'build':\n",
        "    gan.save(RUN_FOLDER)\n",
        "else:\n",
        "    gan.load_weights(os.path.join('path_to_model_folder', 'weights/weights.h5'))"
      ]
    },
    {
      "cell_type": "code",
      "execution_count": null,
      "metadata": {
        "id": "HcxgwDzpuoku"
      },
      "outputs": [],
      "source": [
        "BATCH_SIZE = 1\n",
        "EPOCHS = 250\n",
        "PRINT_EVERY_N_BATCHES = 2000\n",
        "\n",
        "TEST_A_FILE = 'Name of test image A'\n",
        "TEST_B_FILE = 'Name of test image B'"
      ]
    },
    {
      "cell_type": "code",
      "execution_count": null,
      "metadata": {
        "id": "wRpel1i1ur8X"
      },
      "outputs": [],
      "source": [
        "gan.train(data_loader\n",
        "        , run_folder = RUN_FOLDER\n",
        "        , epochs=EPOCHS\n",
        "        , test_A_file = TEST_A_FILE\n",
        "        , test_B_file = TEST_B_FILE\n",
        "        , batch_size=BATCH_SIZE\n",
        "        , sample_interval= PRINT_EVERY_N_BATCHES)"
      ]
    }
  ],
  "metadata": {
    "accelerator": "GPU",
    "colab": {
      "collapsed_sections": [],
      "name": "Main.ipynb",
      "provenance": []
    },
    "gpuClass": "standard",
    "kernelspec": {
      "display_name": "Python 3",
      "name": "python3"
    },
    "language_info": {
      "name": "python"
    }
  },
  "nbformat": 4,
  "nbformat_minor": 0
}